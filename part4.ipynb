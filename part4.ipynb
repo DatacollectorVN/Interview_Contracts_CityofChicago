{
 "cells": [
  {
   "cell_type": "code",
   "execution_count": 51,
   "id": "70aa6d4d",
   "metadata": {},
   "outputs": [],
   "source": [
    "import pandas as pd\n",
    "import numpy as np\n",
    "import duckdb"
   ]
  },
  {
   "cell_type": "code",
   "execution_count": 225,
   "id": "240be1b7",
   "metadata": {},
   "outputs": [],
   "source": [
    "FILE_PATH: str = \"data/Competency Test_Contracts_20250721.csv\""
   ]
  },
  {
   "cell_type": "markdown",
   "id": "813e0374",
   "metadata": {},
   "source": [
    "### 0. Overall"
   ]
  },
  {
   "cell_type": "code",
   "execution_count": 226,
   "id": "03a0149c",
   "metadata": {},
   "outputs": [],
   "source": [
    "df: pd.DataFrame = pd.read_csv(FILE_PATH)"
   ]
  },
  {
   "cell_type": "code",
   "execution_count": 5,
   "id": "f601492c",
   "metadata": {},
   "outputs": [
    {
     "name": "stdout",
     "output_type": "stream",
     "text": [
      "n_rows: 180012\n",
      "n_columns: 19\n"
     ]
    }
   ],
   "source": [
    "n_rows: int; n_columns: int\n",
    "n_rows, n_columns = df.shape\n",
    "print(f\"n_rows: {n_rows}\")\n",
    "print(f\"n_columns: {n_columns}\")"
   ]
  },
  {
   "cell_type": "code",
   "execution_count": 8,
   "id": "fbdbc21d",
   "metadata": {},
   "outputs": [
    {
     "name": "stdout",
     "output_type": "stream",
     "text": [
      "<class 'pandas.core.frame.DataFrame'>\n",
      "RangeIndex: 180012 entries, 0 to 180011\n",
      "Data columns (total 19 columns):\n",
      " #   Column                            Non-Null Count   Dtype  \n",
      "---  ------                            --------------   -----  \n",
      " 0   Purchase Order Description        177231 non-null  object \n",
      " 1   Purchase Order (Contract) Number  180012 non-null  object \n",
      " 2   Revision Number                   180012 non-null  object \n",
      " 3   Specification Number              167785 non-null  object \n",
      " 4   Contract Type                     135265 non-null  object \n",
      " 5   Start Date                        118018 non-null  object \n",
      " 6   End Date                          117240 non-null  object \n",
      " 7   Approval Date                     179991 non-null  object \n",
      " 8   Department                        169465 non-null  object \n",
      " 9   Vendor Name                       180012 non-null  object \n",
      " 10  Vendor ID                         180012 non-null  object \n",
      " 11  Address 1                         179441 non-null  object \n",
      " 12  Address 2                         19296 non-null   object \n",
      " 13  City                              178991 non-null  object \n",
      " 14  State                             180002 non-null  object \n",
      " 15  Zip                               177946 non-null  object \n",
      " 16  Award Amount                      180012 non-null  float64\n",
      " 17  Procurement Type                  53799 non-null   object \n",
      " 18  Contract PDF                      0 non-null       float64\n",
      "dtypes: float64(2), object(17)\n",
      "memory usage: 26.1+ MB\n"
     ]
    }
   ],
   "source": [
    "df.info()"
   ]
  },
  {
   "cell_type": "code",
   "execution_count": 9,
   "id": "c7779dda",
   "metadata": {},
   "outputs": [
    {
     "data": {
      "text/html": [
       "<div>\n",
       "<style scoped>\n",
       "    .dataframe tbody tr th:only-of-type {\n",
       "        vertical-align: middle;\n",
       "    }\n",
       "\n",
       "    .dataframe tbody tr th {\n",
       "        vertical-align: top;\n",
       "    }\n",
       "\n",
       "    .dataframe thead th {\n",
       "        text-align: right;\n",
       "    }\n",
       "</style>\n",
       "<table border=\"1\" class=\"dataframe\">\n",
       "  <thead>\n",
       "    <tr style=\"text-align: right;\">\n",
       "      <th></th>\n",
       "      <th>Purchase Order Description</th>\n",
       "      <th>Purchase Order (Contract) Number</th>\n",
       "      <th>Revision Number</th>\n",
       "      <th>Specification Number</th>\n",
       "      <th>Contract Type</th>\n",
       "      <th>Start Date</th>\n",
       "      <th>End Date</th>\n",
       "      <th>Approval Date</th>\n",
       "      <th>Department</th>\n",
       "      <th>Vendor Name</th>\n",
       "      <th>Vendor ID</th>\n",
       "      <th>Address 1</th>\n",
       "      <th>Address 2</th>\n",
       "      <th>City</th>\n",
       "      <th>State</th>\n",
       "      <th>Zip</th>\n",
       "      <th>Award Amount</th>\n",
       "      <th>Procurement Type</th>\n",
       "      <th>Contract PDF</th>\n",
       "    </tr>\n",
       "  </thead>\n",
       "  <tbody>\n",
       "    <tr>\n",
       "      <th>0</th>\n",
       "      <td>CDPH-RW-PA: PCHH-CORP PO 116678 SINAI HEALTH S...</td>\n",
       "      <td>302701</td>\n",
       "      <td>0</td>\n",
       "      <td>1042731</td>\n",
       "      <td>DELEGATE AGENCY</td>\n",
       "      <td>NaN</td>\n",
       "      <td>NaN</td>\n",
       "      <td>03/13/2025</td>\n",
       "      <td>CHICAGO DEPARTMENT OF PUBLIC HEALTH</td>\n",
       "      <td>SINAI HEALTH SYSTEM</td>\n",
       "      <td>41617145V</td>\n",
       "      <td>1500 S CALIFORNIA BLVD</td>\n",
       "      <td>NaN</td>\n",
       "      <td>CHICAGO</td>\n",
       "      <td>IL</td>\n",
       "      <td>60608</td>\n",
       "      <td>25222.0</td>\n",
       "      <td>NaN</td>\n",
       "      <td>NaN</td>\n",
       "    </tr>\n",
       "    <tr>\n",
       "      <th>1</th>\n",
       "      <td>DEMOLITION</td>\n",
       "      <td>E011442</td>\n",
       "      <td>0</td>\n",
       "      <td>E968020030</td>\n",
       "      <td>NaN</td>\n",
       "      <td>NaN</td>\n",
       "      <td>NaN</td>\n",
       "      <td>NaN</td>\n",
       "      <td>DEPARTMENT OF BUILDINGS</td>\n",
       "      <td>MIDWEST WRECKING COMPANY 01</td>\n",
       "      <td>14878414T</td>\n",
       "      <td>1950 W HUBBARD ST</td>\n",
       "      <td>NaN</td>\n",
       "      <td>CHICAGO</td>\n",
       "      <td>IL</td>\n",
       "      <td>60622</td>\n",
       "      <td>17500.0</td>\n",
       "      <td>NaN</td>\n",
       "      <td>NaN</td>\n",
       "    </tr>\n",
       "    <tr>\n",
       "      <th>2</th>\n",
       "      <td>JANITORIAL SUPPLIES</td>\n",
       "      <td>T27500</td>\n",
       "      <td>0</td>\n",
       "      <td>B74851001</td>\n",
       "      <td>NaN</td>\n",
       "      <td>12/01/1997</td>\n",
       "      <td>11/30/1999</td>\n",
       "      <td>NaN</td>\n",
       "      <td>NaN</td>\n",
       "      <td>CHICAGO UNITED INDUSTRIES, LIMITED</td>\n",
       "      <td>22085024V</td>\n",
       "      <td>53 W JACKSON BLVD # 1450</td>\n",
       "      <td>NaN</td>\n",
       "      <td>CHICAGO</td>\n",
       "      <td>IL</td>\n",
       "      <td>60604-3806</td>\n",
       "      <td>0.0</td>\n",
       "      <td>NaN</td>\n",
       "      <td>NaN</td>\n",
       "    </tr>\n",
       "    <tr>\n",
       "      <th>3</th>\n",
       "      <td>MASTER AGREEMENT FOR DEMOLITION SERVICES</td>\n",
       "      <td>C02163</td>\n",
       "      <td>0</td>\n",
       "      <td>B89683203</td>\n",
       "      <td>NaN</td>\n",
       "      <td>NaN</td>\n",
       "      <td>NaN</td>\n",
       "      <td>NaN</td>\n",
       "      <td>DEPARTMENT OF BUILDINGS</td>\n",
       "      <td>DEMOLITION &amp; DEVELOPMENT, LIMITED.</td>\n",
       "      <td>22414299V</td>\n",
       "      <td>P.0. BOX 10263</td>\n",
       "      <td>NaN</td>\n",
       "      <td>CHICAGO</td>\n",
       "      <td>IL</td>\n",
       "      <td>60610</td>\n",
       "      <td>7000.0</td>\n",
       "      <td>NaN</td>\n",
       "      <td>NaN</td>\n",
       "    </tr>\n",
       "    <tr>\n",
       "      <th>4</th>\n",
       "      <td>MASTER AGREEMENT FOR DEMOLITION SERVICES</td>\n",
       "      <td>C02106</td>\n",
       "      <td>0</td>\n",
       "      <td>B89683203</td>\n",
       "      <td>NaN</td>\n",
       "      <td>NaN</td>\n",
       "      <td>NaN</td>\n",
       "      <td>NaN</td>\n",
       "      <td>DEPARTMENT OF BUILDINGS</td>\n",
       "      <td>DEMOLITION &amp; DEVELOPMENT, LIMITED.</td>\n",
       "      <td>22414299V</td>\n",
       "      <td>P.0. BOX 10263</td>\n",
       "      <td>NaN</td>\n",
       "      <td>CHICAGO</td>\n",
       "      <td>IL</td>\n",
       "      <td>60610</td>\n",
       "      <td>8200.0</td>\n",
       "      <td>NaN</td>\n",
       "      <td>NaN</td>\n",
       "    </tr>\n",
       "  </tbody>\n",
       "</table>\n",
       "</div>"
      ],
      "text/plain": [
       "                          Purchase Order Description  \\\n",
       "0  CDPH-RW-PA: PCHH-CORP PO 116678 SINAI HEALTH S...   \n",
       "1                                         DEMOLITION   \n",
       "2                                JANITORIAL SUPPLIES   \n",
       "3           MASTER AGREEMENT FOR DEMOLITION SERVICES   \n",
       "4           MASTER AGREEMENT FOR DEMOLITION SERVICES   \n",
       "\n",
       "  Purchase Order (Contract) Number Revision Number Specification Number  \\\n",
       "0                           302701               0              1042731   \n",
       "1                          E011442               0           E968020030   \n",
       "2                           T27500               0            B74851001   \n",
       "3                           C02163               0            B89683203   \n",
       "4                           C02106               0            B89683203   \n",
       "\n",
       "     Contract Type  Start Date    End Date Approval Date  \\\n",
       "0  DELEGATE AGENCY         NaN         NaN    03/13/2025   \n",
       "1              NaN         NaN         NaN           NaN   \n",
       "2              NaN  12/01/1997  11/30/1999           NaN   \n",
       "3              NaN         NaN         NaN           NaN   \n",
       "4              NaN         NaN         NaN           NaN   \n",
       "\n",
       "                            Department                         Vendor Name  \\\n",
       "0  CHICAGO DEPARTMENT OF PUBLIC HEALTH                 SINAI HEALTH SYSTEM   \n",
       "1              DEPARTMENT OF BUILDINGS         MIDWEST WRECKING COMPANY 01   \n",
       "2                                  NaN  CHICAGO UNITED INDUSTRIES, LIMITED   \n",
       "3              DEPARTMENT OF BUILDINGS  DEMOLITION & DEVELOPMENT, LIMITED.   \n",
       "4              DEPARTMENT OF BUILDINGS  DEMOLITION & DEVELOPMENT, LIMITED.   \n",
       "\n",
       "   Vendor ID                 Address 1 Address 2     City State         Zip  \\\n",
       "0  41617145V    1500 S CALIFORNIA BLVD       NaN  CHICAGO    IL       60608   \n",
       "1  14878414T         1950 W HUBBARD ST       NaN  CHICAGO    IL       60622   \n",
       "2  22085024V  53 W JACKSON BLVD # 1450       NaN  CHICAGO    IL  60604-3806   \n",
       "3  22414299V            P.0. BOX 10263       NaN  CHICAGO    IL       60610   \n",
       "4  22414299V            P.0. BOX 10263       NaN  CHICAGO    IL       60610   \n",
       "\n",
       "   Award Amount Procurement Type  Contract PDF  \n",
       "0       25222.0              NaN           NaN  \n",
       "1       17500.0              NaN           NaN  \n",
       "2           0.0              NaN           NaN  \n",
       "3        7000.0              NaN           NaN  \n",
       "4        8200.0              NaN           NaN  "
      ]
     },
     "execution_count": 9,
     "metadata": {},
     "output_type": "execute_result"
    }
   ],
   "source": [
    "df.head()"
   ]
  },
  {
   "cell_type": "markdown",
   "id": "5dd7577e",
   "metadata": {},
   "source": [
    "### 1. Data cleaning"
   ]
  },
  {
   "cell_type": "markdown",
   "id": "3e5f5a18",
   "metadata": {},
   "source": [
    "#### Identify and handle missing value in Contract Type, Department, and date fields."
   ]
  },
  {
   "cell_type": "code",
   "execution_count": null,
   "id": "50569c4b",
   "metadata": {},
   "outputs": [
    {
     "data": {
      "text/plain": [
       "Contract PDF                        1.000000\n",
       "Address 2                           0.892807\n",
       "Procurement Type                    0.701137\n",
       "End Date                            0.348710\n",
       "Start Date                          0.344388\n",
       "Contract Type                       0.248578\n",
       "Specification Number                0.067923\n",
       "Department                          0.058591\n",
       "Purchase Order Description          0.015449\n",
       "Zip                                 0.011477\n",
       "City                                0.005672\n",
       "Address 1                           0.003172\n",
       "Approval Date                       0.000117\n",
       "State                               0.000056\n",
       "Purchase Order (Contract) Number    0.000000\n",
       "Vendor ID                           0.000000\n",
       "Award Amount                        0.000000\n",
       "Revision Number                     0.000000\n",
       "Vendor Name                         0.000000\n",
       "dtype: float64"
      ]
     },
     "execution_count": 10,
     "metadata": {},
     "output_type": "execute_result"
    }
   ],
   "source": [
    "### NULL VALUE IDENTIFICATION ###\n",
    "\n",
    "# Check the ratio of missing values in each column\n",
    "df.isnull().mean().sort_values(ascending=False)"
   ]
  },
  {
   "cell_type": "markdown",
   "id": "55c2838a",
   "metadata": {},
   "source": [
    "We found that dataset with columns (`Contract Type`, `End Date`, `Start Date`) includes lots of NULL values while `Department` and `Approval Date` just contain few NULL values."
   ]
  },
  {
   "cell_type": "markdown",
   "id": "6c406131",
   "metadata": {},
   "source": [
    "**Solution:**\n",
    "\n",
    "It is difficult for me to understand the root cause of missing values. I guess some of human errors or missinformation when they generated the survey that lead that happen.\n",
    "\n",
    "Therefore, I approach some methods to handle it"
   ]
  },
  {
   "cell_type": "markdown",
   "id": "e483b945",
   "metadata": {},
   "source": [
    "1. Drop Missing Values"
   ]
  },
  {
   "cell_type": "code",
   "execution_count": 53,
   "id": "36b21f86",
   "metadata": {},
   "outputs": [
    {
     "name": "stdout",
     "output_type": "stream",
     "text": [
      "remain_rows: 71626\n",
      "remain_ratio: 0.398\n"
     ]
    }
   ],
   "source": [
    "drop_columns: list\n",
    "# Case 1: If drop any row with those columns include NULL\n",
    "drop_columns = [\"Department\", \"Contract Type\", \"Start Date\", \"End Date\", \"Approval Date\"]\n",
    "df_case1: pd.DataFrame = df.dropna(subset=drop_columns)\n",
    "remain_rows: int = len(df_case1)\n",
    "remain_ratio: float = remain_rows / n_rows\n",
    "\n",
    "print(f\"remain_rows: {remain_rows}\")\n",
    "print(f\"remain_ratio: {remain_ratio:.3f}\")"
   ]
  },
  {
   "cell_type": "markdown",
   "id": "94314d60",
   "metadata": {},
   "source": [
    "If we apply that way, the dataset will be removed more than 60% ==> It's really bad!"
   ]
  },
  {
   "cell_type": "code",
   "execution_count": 54,
   "id": "506a4aa4",
   "metadata": {},
   "outputs": [
    {
     "name": "stdout",
     "output_type": "stream",
     "text": [
      "remain_rows: 169465\n",
      "remain_ratio: 0.941\n"
     ]
    }
   ],
   "source": [
    "# Case 2: Drop any row with Department include NULL. Because its NULL raitio is smallest.\n",
    "drop_columns = [\"Department\"]\n",
    "df_case2: pd.DataFrame = df.dropna(subset=drop_columns)\n",
    "\n",
    "remain_rows: int = len(df_case2)\n",
    "remain_ratio: float = remain_rows / n_rows\n",
    "\n",
    "print(f\"remain_rows: {remain_rows}\")\n",
    "print(f\"remain_ratio: {remain_ratio:.3f}\")"
   ]
  },
  {
   "cell_type": "markdown",
   "id": "8315b5e6",
   "metadata": {},
   "source": [
    "With that way, we reduce the number of dropped rows, but it also takes ~ 6%. From my point of view, it is not a good way! We need to preserve data integrity besides the data quality."
   ]
  },
  {
   "cell_type": "markdown",
   "id": "574d2757",
   "metadata": {},
   "source": [
    "2. Drop columns\n",
    "\n",
    "I do not choose that way because I want to keep the data integrity and schema"
   ]
  },
  {
   "cell_type": "markdown",
   "id": "1a409e2a",
   "metadata": {},
   "source": [
    "3. Impute missing values"
   ]
  },
  {
   "cell_type": "markdown",
   "id": "7af5ca63",
   "metadata": {},
   "source": [
    "The `Approval Date` just include few NULL value (0.01%) So just leat it as is"
   ]
  },
  {
   "cell_type": "markdown",
   "id": "a8b8e4aa",
   "metadata": {},
   "source": [
    "I saw the miss match of ration between `Start Date` and `End Date` (for natual sense it must be the same)"
   ]
  },
  {
   "cell_type": "code",
   "execution_count": 23,
   "id": "d4a010cb",
   "metadata": {},
   "outputs": [],
   "source": [
    "sql = \"\"\"\n",
    "SELECT\n",
    "    *\n",
    "FROM\n",
    "    df\n",
    "WHERE\n",
    "    (\n",
    "        \"Start Date\" IS NOT NULL\n",
    "        AND \"End Date\" IS NULL\n",
    "    ) \n",
    "    OR (\n",
    "        \"Start Date\" IS NULL\n",
    "        AND \"End Date\" IS NOT NULL\n",
    "    )\n",
    "\"\"\"\n",
    "\n",
    "df_case3: pd.DataFrame = duckdb.query(query=sql).fetch_df_chunk(vectors_per_chunk=100)"
   ]
  },
  {
   "cell_type": "code",
   "execution_count": 36,
   "id": "46d74f25",
   "metadata": {},
   "outputs": [
    {
     "data": {
      "text/html": [
       "<div>\n",
       "<style scoped>\n",
       "    .dataframe tbody tr th:only-of-type {\n",
       "        vertical-align: middle;\n",
       "    }\n",
       "\n",
       "    .dataframe tbody tr th {\n",
       "        vertical-align: top;\n",
       "    }\n",
       "\n",
       "    .dataframe thead th {\n",
       "        text-align: right;\n",
       "    }\n",
       "</style>\n",
       "<table border=\"1\" class=\"dataframe\">\n",
       "  <thead>\n",
       "    <tr style=\"text-align: right;\">\n",
       "      <th></th>\n",
       "      <th>Purchase Order Description</th>\n",
       "      <th>Purchase Order (Contract) Number</th>\n",
       "      <th>Revision Number</th>\n",
       "      <th>Specification Number</th>\n",
       "      <th>Contract Type</th>\n",
       "      <th>Start Date</th>\n",
       "      <th>End Date</th>\n",
       "      <th>Approval Date</th>\n",
       "      <th>Department</th>\n",
       "      <th>Vendor Name</th>\n",
       "      <th>Vendor ID</th>\n",
       "      <th>Address 1</th>\n",
       "      <th>Address 2</th>\n",
       "      <th>City</th>\n",
       "      <th>State</th>\n",
       "      <th>Zip</th>\n",
       "      <th>Award Amount</th>\n",
       "      <th>Procurement Type</th>\n",
       "      <th>Contract PDF</th>\n",
       "    </tr>\n",
       "  </thead>\n",
       "  <tbody>\n",
       "    <tr>\n",
       "      <th>0</th>\n",
       "      <td>DFSS-CTA-HL-OANDE:</td>\n",
       "      <td>279541</td>\n",
       "      <td>0</td>\n",
       "      <td>1263338</td>\n",
       "      <td>DELEGATE AGENCY</td>\n",
       "      <td>None</td>\n",
       "      <td>03/31/2025</td>\n",
       "      <td>08/08/2024</td>\n",
       "      <td>DEPARTMENT OF FAMILY AND SUPPORT SERVICES</td>\n",
       "      <td>THRESHOLDS</td>\n",
       "      <td>93347425L</td>\n",
       "      <td>4101 N RAVENSWOOD AVENUE EFT</td>\n",
       "      <td>None</td>\n",
       "      <td>CHICAGO</td>\n",
       "      <td>IL</td>\n",
       "      <td>60613</td>\n",
       "      <td>742447.0</td>\n",
       "      <td>None</td>\n",
       "      <td>NaN</td>\n",
       "    </tr>\n",
       "    <tr>\n",
       "      <th>1</th>\n",
       "      <td>PIPE, FITTINGS, VALVES AND ACCESSORIES</td>\n",
       "      <td>9929</td>\n",
       "      <td>14</td>\n",
       "      <td>2312</td>\n",
       "      <td>COMMODITIES</td>\n",
       "      <td>11/01/2005</td>\n",
       "      <td>None</td>\n",
       "      <td>07/21/2014</td>\n",
       "      <td>DEPARTMENT OF WATER MANAGEMENT</td>\n",
       "      <td>JOHNSON PIPE &amp; SUPPLY COMPANY INC</td>\n",
       "      <td>15975702V</td>\n",
       "      <td>999 W 37TH STREET EFT ST</td>\n",
       "      <td>None</td>\n",
       "      <td>CHICAGO</td>\n",
       "      <td>IL</td>\n",
       "      <td>60609</td>\n",
       "      <td>0.0</td>\n",
       "      <td>BID</td>\n",
       "      <td>NaN</td>\n",
       "    </tr>\n",
       "    <tr>\n",
       "      <th>2</th>\n",
       "      <td>PIPE, FITTINGS, VALVES AND ACCESSORIES</td>\n",
       "      <td>9929</td>\n",
       "      <td>12</td>\n",
       "      <td>2312</td>\n",
       "      <td>COMMODITIES</td>\n",
       "      <td>11/01/2005</td>\n",
       "      <td>None</td>\n",
       "      <td>07/15/2014</td>\n",
       "      <td>DEPARTMENT OF WATER MANAGEMENT</td>\n",
       "      <td>JOHNSON PIPE &amp; SUPPLY COMPANY INC</td>\n",
       "      <td>15975702V</td>\n",
       "      <td>999 W 37TH STREET EFT ST</td>\n",
       "      <td>None</td>\n",
       "      <td>CHICAGO</td>\n",
       "      <td>IL</td>\n",
       "      <td>60609</td>\n",
       "      <td>0.0</td>\n",
       "      <td>BID</td>\n",
       "      <td>NaN</td>\n",
       "    </tr>\n",
       "    <tr>\n",
       "      <th>3</th>\n",
       "      <td>DFSS-CTA-HL-OANDE:</td>\n",
       "      <td>279541</td>\n",
       "      <td>1</td>\n",
       "      <td>1263338</td>\n",
       "      <td>DELEGATE AGENCY</td>\n",
       "      <td>None</td>\n",
       "      <td>03/31/2025</td>\n",
       "      <td>08/16/2024</td>\n",
       "      <td>DEPARTMENT OF FAMILY AND SUPPORT SERVICES</td>\n",
       "      <td>THRESHOLDS</td>\n",
       "      <td>93347425L</td>\n",
       "      <td>4101 N RAVENSWOOD AVENUE EFT</td>\n",
       "      <td>None</td>\n",
       "      <td>CHICAGO</td>\n",
       "      <td>IL</td>\n",
       "      <td>60613</td>\n",
       "      <td>742447.0</td>\n",
       "      <td>None</td>\n",
       "      <td>NaN</td>\n",
       "    </tr>\n",
       "    <tr>\n",
       "      <th>4</th>\n",
       "      <td>FENCING SERVICES</td>\n",
       "      <td>15087</td>\n",
       "      <td>7</td>\n",
       "      <td>22200</td>\n",
       "      <td>CONSTRUCTION-GENERAL</td>\n",
       "      <td>08/01/2007</td>\n",
       "      <td>None</td>\n",
       "      <td>06/25/2014</td>\n",
       "      <td>DEPT OF GENERAL SERVICES</td>\n",
       "      <td>FENCE MASTERS, INC</td>\n",
       "      <td>93285910V</td>\n",
       "      <td>20400 S COTTAGE GROVE EFT</td>\n",
       "      <td>None</td>\n",
       "      <td>CHICAGO HEIGHTS</td>\n",
       "      <td>IL</td>\n",
       "      <td>60411</td>\n",
       "      <td>0.0</td>\n",
       "      <td>BID</td>\n",
       "      <td>NaN</td>\n",
       "    </tr>\n",
       "  </tbody>\n",
       "</table>\n",
       "</div>"
      ],
      "text/plain": [
       "               Purchase Order Description Purchase Order (Contract) Number  \\\n",
       "0                      DFSS-CTA-HL-OANDE:                           279541   \n",
       "1  PIPE, FITTINGS, VALVES AND ACCESSORIES                             9929   \n",
       "2  PIPE, FITTINGS, VALVES AND ACCESSORIES                             9929   \n",
       "3                      DFSS-CTA-HL-OANDE:                           279541   \n",
       "4                        FENCING SERVICES                            15087   \n",
       "\n",
       "  Revision Number Specification Number         Contract Type  Start Date  \\\n",
       "0               0              1263338       DELEGATE AGENCY        None   \n",
       "1              14                 2312           COMMODITIES  11/01/2005   \n",
       "2              12                 2312           COMMODITIES  11/01/2005   \n",
       "3               1              1263338       DELEGATE AGENCY        None   \n",
       "4               7                22200  CONSTRUCTION-GENERAL  08/01/2007   \n",
       "\n",
       "     End Date Approval Date                                 Department  \\\n",
       "0  03/31/2025    08/08/2024  DEPARTMENT OF FAMILY AND SUPPORT SERVICES   \n",
       "1        None    07/21/2014             DEPARTMENT OF WATER MANAGEMENT   \n",
       "2        None    07/15/2014             DEPARTMENT OF WATER MANAGEMENT   \n",
       "3  03/31/2025    08/16/2024  DEPARTMENT OF FAMILY AND SUPPORT SERVICES   \n",
       "4        None    06/25/2014                   DEPT OF GENERAL SERVICES   \n",
       "\n",
       "                         Vendor Name  Vendor ID                     Address 1  \\\n",
       "0                         THRESHOLDS  93347425L  4101 N RAVENSWOOD AVENUE EFT   \n",
       "1  JOHNSON PIPE & SUPPLY COMPANY INC  15975702V      999 W 37TH STREET EFT ST   \n",
       "2  JOHNSON PIPE & SUPPLY COMPANY INC  15975702V      999 W 37TH STREET EFT ST   \n",
       "3                         THRESHOLDS  93347425L  4101 N RAVENSWOOD AVENUE EFT   \n",
       "4                 FENCE MASTERS, INC  93285910V     20400 S COTTAGE GROVE EFT   \n",
       "\n",
       "  Address 2             City State    Zip  Award Amount Procurement Type  \\\n",
       "0      None          CHICAGO    IL  60613      742447.0             None   \n",
       "1      None          CHICAGO    IL  60609           0.0              BID   \n",
       "2      None          CHICAGO    IL  60609           0.0              BID   \n",
       "3      None          CHICAGO    IL  60613      742447.0             None   \n",
       "4      None  CHICAGO HEIGHTS    IL  60411           0.0              BID   \n",
       "\n",
       "   Contract PDF  \n",
       "0           NaN  \n",
       "1           NaN  \n",
       "2           NaN  \n",
       "3           NaN  \n",
       "4           NaN  "
      ]
     },
     "execution_count": 36,
     "metadata": {},
     "output_type": "execute_result"
    }
   ],
   "source": [
    "df_case3.head()"
   ]
  },
  {
   "cell_type": "code",
   "execution_count": 27,
   "id": "ae933208",
   "metadata": {},
   "outputs": [
    {
     "name": "stdout",
     "output_type": "stream",
     "text": [
      "rows: 2364\n",
      "ratio: 0.013\n"
     ]
    }
   ],
   "source": [
    "rows: int = len(df_case3)\n",
    "ratio: float = rows / n_rows\n",
    "\n",
    "print(f\"rows: {rows}\")\n",
    "print(f\"ratio: {ratio:.3f}\")"
   ]
  },
  {
   "cell_type": "markdown",
   "id": "af2512f0",
   "metadata": {},
   "source": [
    "We found that dataset has ~1% in that case. Therefore, I predict that is the fact (genuine data). So just leave it as is."
   ]
  },
  {
   "cell_type": "code",
   "execution_count": 35,
   "id": "1343f95e",
   "metadata": {},
   "outputs": [
    {
     "data": {
      "text/plain": [
       "Contract Type\n",
       "DELEGATE AGENCY                        63546\n",
       "NaN                                    44747\n",
       "COMPTROLLER-OTHER                      14259\n",
       "CONSTRUCTION-LARGE $3MILLIONorABOVE     8584\n",
       "CONSTRUCTION-AVIATION                   6986\n",
       "ARCH/ENGINEERING                        4702\n",
       "WORK SERVICES / FACILITIES MAINT.       4315\n",
       "COMMODITIES                             4126\n",
       "PRO SERV CONSULTING $250,000orABOVE     3608\n",
       "CONSTRUCTION-GENERAL                    3456\n",
       "Modification                            2230\n",
       "Time Extension                          2066\n",
       "PROPERTY LEASE                          1964\n",
       "CONSTRUCTION                            1791\n",
       "VEHICLES/HEAVY EQUIPMENT (CAPITAL)      1360\n",
       "CONVERTED                               1207\n",
       "Delegate Agency                         1151\n",
       "Term Agreement                          1050\n",
       "COMMODITIES-SMALL ORDERS                1046\n",
       "WORK SERV-AVIATION                       874\n",
       "PRO SERV-AVIATION                        790\n",
       "DEMOLITION-SMALL ORDERS                  673\n",
       "JOC                                      612\n",
       "Construction                             595\n",
       "One Shot                                 559\n",
       "EXHIBIT-A                                487\n",
       "DEMOLITION                               450\n",
       "Professional Services                    341\n",
       "PRO SERV CONSULTING UNDER $250,000       311\n",
       "WORK SERVICES-SMALL ORDERS               310\n",
       "SOFTWARE                                 250\n",
       "EXHIBIT-B                                212\n",
       "ARCH/ENGINEERING-AVIATION                211\n",
       "COMMODITIES-AVIATION                     190\n",
       "HIRED TRUCK                              175\n",
       "PRO SERV-SMALL ORDERS                    147\n",
       "PRO SERV                                 116\n",
       "REVENUE                                   99\n",
       "CONSTRUCTION SERVICES                     74\n",
       "UTILITIES-ELECTRICITY                     47\n",
       "HARDWARE                                  41\n",
       "DPS DELEGATE AGENCY                       35\n",
       "Other                                     34\n",
       "TELECOMMUNICATIONS                        31\n",
       "ROOFING                                   28\n",
       "Service Contract                          27\n",
       "RELEASE REQUISITION                       26\n",
       "PRO SERV-SOFTWARE/HARDWARE                21\n",
       "Add Line Item                             18\n",
       "Emergency                                 13\n",
       "PRO SERV-BUSINESS CONSULTING               9\n",
       "Demolition                                 5\n",
       "CONSTRUCTION-LARGE $5MILLIONorABOVE        4\n",
       "ONE SHOT                                   1\n",
       "07/23/02                                   1\n",
       "08/28/01                                   1\n",
       "Name: count, dtype: int64"
      ]
     },
     "execution_count": 35,
     "metadata": {},
     "output_type": "execute_result"
    }
   ],
   "source": [
    "# Categorical values in \"Contract Type\"\n",
    "df[\"Contract Type\"].value_counts(dropna=False)"
   ]
  },
  {
   "cell_type": "markdown",
   "id": "273abb46",
   "metadata": {},
   "source": [
    "Above statistics shows us the frequency of values in `Contract Type` columns, it contains few werids value but we ignore that and assume it is correct. \n",
    "\n",
    "NULL value in TOP 2 (44747 rows) Those irritate us the impute it with another. So in that case, we decide to fill NULL value with \"Unknown\" to preserve the descriptive character in that column."
   ]
  },
  {
   "cell_type": "code",
   "execution_count": 39,
   "id": "5ac2c817",
   "metadata": {},
   "outputs": [],
   "source": [
    "# Categorical values in \"Department\"\n",
    "department_counts: pd.Series  = df[\"Department\"].value_counts(dropna=False)"
   ]
  },
  {
   "cell_type": "code",
   "execution_count": 52,
   "id": "19febd1c",
   "metadata": {},
   "outputs": [
    {
     "data": {
      "text/plain": [
       "Department\n",
       "DEPARTMENT OF FAMILY AND SUPPORT SERVICES    27794\n",
       "CHICAGO DEPARTMENT OF TRANSPORTATION         21002\n",
       "DEPARTMENT OF HUMAN RESOURCES                18008\n",
       "CHICAGO DEPARTMENT OF PUBLIC HEALTH          13641\n",
       "DEPARTMENT OF BUILDINGS                      11238\n",
       "                                             ...  \n",
       "BOARD OF ELECTION COMMISSIONERS                  1\n",
       "GENERAL ACCOUNTING                               1\n",
       "DEPT OF ECONOMIC DEVELOPMENT                     1\n",
       "DEPT OF SENIOR SERVICES                          1\n",
       "DEPARTMENT OF ADMINISTRATIVE HEARINGS            1\n",
       "Name: count, Length: 73, dtype: int64"
      ]
     },
     "execution_count": 52,
     "metadata": {},
     "output_type": "execute_result"
    }
   ],
   "source": [
    "department_counts"
   ]
  },
  {
   "cell_type": "code",
   "execution_count": 45,
   "id": "0f8b95ff",
   "metadata": {},
   "outputs": [
    {
     "name": "stdout",
     "output_type": "stream",
     "text": [
      "n_values: 73\n"
     ]
    }
   ],
   "source": [
    "n_values: int = len(department_counts)\n",
    "print(f\"n_values: {n_values}\")"
   ]
  },
  {
   "cell_type": "code",
   "execution_count": 43,
   "id": "4ebb82cb",
   "metadata": {},
   "outputs": [
    {
     "data": {
      "text/plain": [
       "Department\n",
       "LIC COMM & LOCAL LIQ CTRL COMM           1\n",
       "LICENSE APPEAL COMMISSION                1\n",
       "BOARD OF ELECTION COMMISSIONERS          1\n",
       "GENERAL ACCOUNTING                       1\n",
       "DEPT OF ECONOMIC DEVELOPMENT             1\n",
       "DEPT OF SENIOR SERVICES                  1\n",
       "DEPARTMENT OF ADMINISTRATIVE HEARINGS    1\n",
       "Name: count, dtype: int64"
      ]
     },
     "execution_count": 43,
     "metadata": {},
     "output_type": "execute_result"
    }
   ],
   "source": [
    "department_counts[department_counts == 1]"
   ]
  },
  {
   "cell_type": "code",
   "execution_count": 50,
   "id": "a54e68eb",
   "metadata": {},
   "outputs": [
    {
     "data": {
      "text/plain": [
       "np.int64(10547)"
      ]
     },
     "execution_count": 50,
     "metadata": {},
     "output_type": "execute_result"
    }
   ],
   "source": [
    "department_counts[np.nan]"
   ]
  },
  {
   "cell_type": "markdown",
   "id": "aa87ca0d",
   "metadata": {},
   "source": [
    "Above analysis give us the quick view about `Department` column that is variety with lots of unnecessary values such as 7 values with only appear 1 time.\n",
    "\n",
    "therefore we decide to impute the NULL value for `Department` column by \"Unknown\"."
   ]
  },
  {
   "cell_type": "markdown",
   "id": "2d3ed057",
   "metadata": {},
   "source": [
    "#### Convert date fields (start_date, end_date, approval_date) to standard date formats."
   ]
  },
  {
   "cell_type": "code",
   "execution_count": 216,
   "id": "1f681518",
   "metadata": {},
   "outputs": [],
   "source": [
    "# RE pattern to detect the valid date with format (MM/DD/YYYY)\n",
    "re_pattern: str = \"^(0[1-9]|1[0-2])/([0][1-9]|[12][0-9]|3[01])/(1|2)\\\\d{3}$\"\n",
    "target_col: str\n",
    "\n",
    "sql = \"\"\"\n",
    "SELECT \n",
    "  \"{target_col}\",\n",
    "  CASE\n",
    "    WHEN\n",
    "      \"{target_col}\" IS NULL\n",
    "      THEN\n",
    "        \"{target_col}\"\n",
    "    WHEN \n",
    "      REGEXP_FULL_MATCH(\"{target_col}\", '{re_pattern}') \n",
    "      THEN \n",
    "        \"{target_col}\"\n",
    "    ELSE \n",
    "      'bad' \n",
    "  END AS detected_case1\n",
    "FROM \n",
    "  df\n",
    "WHERE \n",
    "  detected_case1 = 'bad'\n",
    ";\n",
    "\"\"\""
   ]
  },
  {
   "cell_type": "code",
   "execution_count": 196,
   "id": "f93164a6",
   "metadata": {},
   "outputs": [
    {
     "data": {
      "text/html": [
       "<div>\n",
       "<style scoped>\n",
       "    .dataframe tbody tr th:only-of-type {\n",
       "        vertical-align: middle;\n",
       "    }\n",
       "\n",
       "    .dataframe tbody tr th {\n",
       "        vertical-align: top;\n",
       "    }\n",
       "\n",
       "    .dataframe thead th {\n",
       "        text-align: right;\n",
       "    }\n",
       "</style>\n",
       "<table border=\"1\" class=\"dataframe\">\n",
       "  <thead>\n",
       "    <tr style=\"text-align: right;\">\n",
       "      <th></th>\n",
       "      <th>Start Date</th>\n",
       "      <th>detected_case1</th>\n",
       "    </tr>\n",
       "  </thead>\n",
       "  <tbody>\n",
       "    <tr>\n",
       "      <th>0</th>\n",
       "      <td>01/01/0204</td>\n",
       "      <td>bad</td>\n",
       "    </tr>\n",
       "    <tr>\n",
       "      <th>1</th>\n",
       "      <td>07/01/0201</td>\n",
       "      <td>bad</td>\n",
       "    </tr>\n",
       "    <tr>\n",
       "      <th>2</th>\n",
       "      <td>07/18/0207</td>\n",
       "      <td>bad</td>\n",
       "    </tr>\n",
       "    <tr>\n",
       "      <th>3</th>\n",
       "      <td>01/01/0202</td>\n",
       "      <td>bad</td>\n",
       "    </tr>\n",
       "    <tr>\n",
       "      <th>4</th>\n",
       "      <td>03/01/0201</td>\n",
       "      <td>bad</td>\n",
       "    </tr>\n",
       "    <tr>\n",
       "      <th>5</th>\n",
       "      <td>10/09/0201</td>\n",
       "      <td>bad</td>\n",
       "    </tr>\n",
       "  </tbody>\n",
       "</table>\n",
       "</div>"
      ],
      "text/plain": [
       "   Start Date detected_case1\n",
       "0  01/01/0204            bad\n",
       "1  07/01/0201            bad\n",
       "2  07/18/0207            bad\n",
       "3  01/01/0202            bad\n",
       "4  03/01/0201            bad\n",
       "5  10/09/0201            bad"
      ]
     },
     "execution_count": 196,
     "metadata": {},
     "output_type": "execute_result"
    }
   ],
   "source": [
    "target_col = \"Start Date\"\n",
    "duckdb.sql(\n",
    "    query=sql.format(\n",
    "        target_col=target_col,\n",
    "        re_pattern=re_pattern\n",
    "    )\n",
    ").fetchdf()"
   ]
  },
  {
   "cell_type": "code",
   "execution_count": 197,
   "id": "06c21451",
   "metadata": {},
   "outputs": [
    {
     "data": {
      "text/html": [
       "<div>\n",
       "<style scoped>\n",
       "    .dataframe tbody tr th:only-of-type {\n",
       "        vertical-align: middle;\n",
       "    }\n",
       "\n",
       "    .dataframe tbody tr th {\n",
       "        vertical-align: top;\n",
       "    }\n",
       "\n",
       "    .dataframe thead th {\n",
       "        text-align: right;\n",
       "    }\n",
       "</style>\n",
       "<table border=\"1\" class=\"dataframe\">\n",
       "  <thead>\n",
       "    <tr style=\"text-align: right;\">\n",
       "      <th></th>\n",
       "      <th>End Date</th>\n",
       "      <th>detected_case1</th>\n",
       "    </tr>\n",
       "  </thead>\n",
       "  <tbody>\n",
       "    <tr>\n",
       "      <th>0</th>\n",
       "      <td>11/30/3030</td>\n",
       "      <td>bad</td>\n",
       "    </tr>\n",
       "  </tbody>\n",
       "</table>\n",
       "</div>"
      ],
      "text/plain": [
       "     End Date detected_case1\n",
       "0  11/30/3030            bad"
      ]
     },
     "execution_count": 197,
     "metadata": {},
     "output_type": "execute_result"
    }
   ],
   "source": [
    "target_col = \"End Date\"\n",
    "duckdb.sql(\n",
    "    query=sql.format(\n",
    "        target_col=target_col,\n",
    "        re_pattern=re_pattern\n",
    "    )\n",
    ").fetchdf()"
   ]
  },
  {
   "cell_type": "code",
   "execution_count": 198,
   "id": "2a06621a",
   "metadata": {},
   "outputs": [
    {
     "data": {
      "text/html": [
       "<div>\n",
       "<style scoped>\n",
       "    .dataframe tbody tr th:only-of-type {\n",
       "        vertical-align: middle;\n",
       "    }\n",
       "\n",
       "    .dataframe tbody tr th {\n",
       "        vertical-align: top;\n",
       "    }\n",
       "\n",
       "    .dataframe thead th {\n",
       "        text-align: right;\n",
       "    }\n",
       "</style>\n",
       "<table border=\"1\" class=\"dataframe\">\n",
       "  <thead>\n",
       "    <tr style=\"text-align: right;\">\n",
       "      <th></th>\n",
       "      <th>Approval Date</th>\n",
       "      <th>detected_case1</th>\n",
       "    </tr>\n",
       "  </thead>\n",
       "  <tbody>\n",
       "  </tbody>\n",
       "</table>\n",
       "</div>"
      ],
      "text/plain": [
       "Empty DataFrame\n",
       "Columns: [Approval Date, detected_case1]\n",
       "Index: []"
      ]
     },
     "execution_count": 198,
     "metadata": {},
     "output_type": "execute_result"
    }
   ],
   "source": [
    "target_col = \"Approval Date\"\n",
    "duckdb.sql(\n",
    "    query=sql.format(\n",
    "        target_col=target_col,\n",
    "        re_pattern=re_pattern\n",
    "    )\n",
    ").fetchdf()"
   ]
  },
  {
   "cell_type": "markdown",
   "id": "9f494a84",
   "metadata": {},
   "source": [
    "- `Start Date`: has several error in year field.\n",
    "- `End Date`: includes a werid date `11/30/3030`, I guess it is the [high date](https://stackoverflow.com/questions/4367050/how-do-you-ignore-records-with-a-date-of-12-31-2999-in-mysql). But in Pandas with datetime64[ns] only contain the date lower than `2262-04-11` date so to process easily I decide to replace `11/30/3030` to `12/31/2261` this is acceptance range of datetime64[ns].\n",
    "- `Approval Date`: does not include any error."
   ]
  }
 ],
 "metadata": {
  "kernelspec": {
   "display_name": "city_chicago",
   "language": "python",
   "name": "python3"
  },
  "language_info": {
   "codemirror_mode": {
    "name": "ipython",
    "version": 3
   },
   "file_extension": ".py",
   "mimetype": "text/x-python",
   "name": "python",
   "nbconvert_exporter": "python",
   "pygments_lexer": "ipython3",
   "version": "3.10.18"
  }
 },
 "nbformat": 4,
 "nbformat_minor": 5
}
